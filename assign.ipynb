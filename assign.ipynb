{
 "cells": [
  {
   "cell_type": "markdown",
   "id": "d11e54c6",
   "metadata": {},
   "source": [
    "solution 1"
   ]
  },
  {
   "cell_type": "code",
   "execution_count": 2,
   "id": "52f54187",
   "metadata": {},
   "outputs": [
    {
     "name": "stdout",
     "output_type": "stream",
     "text": [
      "1\n",
      "2\n",
      "3\n",
      "4\n",
      "5\n",
      "6\n",
      "7\n",
      "8\n",
      "9\n",
      "10\n"
     ]
    }
   ],
   "source": [
    "for i in range(1,11):\n",
    "    print(i)"
   ]
  },
  {
   "cell_type": "markdown",
   "id": "835ed06c",
   "metadata": {},
   "source": [
    "solution 2"
   ]
  },
  {
   "cell_type": "markdown",
   "id": "4a2afcb8",
   "metadata": {},
   "source": [
    "A for loop iterates over a sequence with a predetermined number of iterations, while a while loop continues to execute as long as a specified condition remains true."
   ]
  },
  {
   "cell_type": "markdown",
   "id": "dcfb63ba",
   "metadata": {},
   "source": [
    "solution 3"
   ]
  },
  {
   "cell_type": "code",
   "execution_count": 8,
   "id": "26aacc51",
   "metadata": {},
   "outputs": [
    {
     "name": "stdout",
     "output_type": "stream",
     "text": [
      "5050\n"
     ]
    }
   ],
   "source": [
    "sum = 0\n",
    "for i in range(1,101):\n",
    "    sum += i\n",
    "print(sum)"
   ]
  },
  {
   "cell_type": "markdown",
   "id": "23fc1cdb",
   "metadata": {},
   "source": [
    "solution 4"
   ]
  },
  {
   "cell_type": "markdown",
   "id": "ac69afe7",
   "metadata": {},
   "source": [
    "To iterate through a list using a for loop in Python, you write a for statement followed by a variable name, then the in keyword, and finally the list you want to iterate over. The loop will run once for each item in the list, with the variable representing the current item in each iteration."
   ]
  },
  {
   "cell_type": "markdown",
   "id": "96433393",
   "metadata": {},
   "source": [
    "solution 5"
   ]
  },
  {
   "cell_type": "code",
   "execution_count": 11,
   "id": "2e5e3fa6",
   "metadata": {},
   "outputs": [
    {
     "name": "stdout",
     "output_type": "stream",
     "text": [
      "120\n"
     ]
    }
   ],
   "source": [
    "my_list = [3,5,8]\n",
    "multiplication = 1\n",
    "for i in my_list:\n",
    "    multiplication *= i\n",
    "print(multiplication)\n",
    "    "
   ]
  },
  {
   "cell_type": "markdown",
   "id": "b8852dc5",
   "metadata": {},
   "source": [
    "solution 6"
   ]
  },
  {
   "cell_type": "code",
   "execution_count": 17,
   "id": "cac689d6",
   "metadata": {},
   "outputs": [
    {
     "name": "stdout",
     "output_type": "stream",
     "text": [
      "2\n",
      "4\n",
      "6\n",
      "8\n",
      "10\n",
      "12\n",
      "14\n",
      "16\n",
      "18\n",
      "20\n"
     ]
    }
   ],
   "source": [
    "\n",
    "for i in range(1,21):\n",
    "    if i % 2 == 0:\n",
    "        print(i)\n",
    "    \n"
   ]
  },
  {
   "cell_type": "markdown",
   "id": "6e0a50aa",
   "metadata": {},
   "source": [
    "solution 7"
   ]
  },
  {
   "cell_type": "code",
   "execution_count": 20,
   "id": "68176429",
   "metadata": {},
   "outputs": [
    {
     "name": "stdout",
     "output_type": "stream",
     "text": [
      "120\n"
     ]
    }
   ],
   "source": [
    "number = 5\n",
    "factorial = 1\n",
    "for i in range(1, number + 1):\n",
    "    factorial *= i\n",
    "print(factorial)\n",
    "\n",
    "    \n",
    "    "
   ]
  },
  {
   "cell_type": "markdown",
   "id": "3d99d530",
   "metadata": {},
   "source": [
    "solution 8"
   ]
  },
  {
   "cell_type": "code",
   "execution_count": 22,
   "id": "0f8b353c",
   "metadata": {},
   "outputs": [
    {
     "name": "stdout",
     "output_type": "stream",
     "text": [
      "H\n",
      "e\n",
      "l\n",
      "l\n",
      "o\n"
     ]
    }
   ],
   "source": [
    "my_string = \"Hello\"\n",
    "\n",
    "for char in my_string:\n",
    "    print(char)\n"
   ]
  },
  {
   "cell_type": "markdown",
   "id": "9f21e875",
   "metadata": {},
   "source": [
    "solution 9"
   ]
  },
  {
   "cell_type": "code",
   "execution_count": 26,
   "id": "70cf6f24",
   "metadata": {},
   "outputs": [
    {
     "name": "stdout",
     "output_type": "stream",
     "text": [
      "The largest number in the list is: 9\n"
     ]
    }
   ],
   "source": [
    "my_list = [3, 7, 2, 9, 4]\n",
    "largest_no = my_list[0]\n",
    "for number in my_list:\n",
    "    if number > largest_no:\n",
    "        largest_no = number\n",
    "print(f\"The largest number in the list is: {largest_no}\")\n"
   ]
  },
  {
   "cell_type": "markdown",
   "id": "c17c7654",
   "metadata": {},
   "source": [
    "soution 10"
   ]
  },
  {
   "cell_type": "code",
   "execution_count": 29,
   "id": "2ebb5031",
   "metadata": {
    "scrolled": true
   },
   "outputs": [
    {
     "name": "stdout",
     "output_type": "stream",
     "text": [
      "enter the limit: 8\n",
      "0 1 1 2 3 5 8 13 "
     ]
    }
   ],
   "source": [
    "limit = int(input(\"enter the limit: \"))\n",
    "n1,n2 = 0,1\n",
    "print(n1, end= \" \")\n",
    "for i in range(limit -1):\n",
    "    print(n2 , end=\" \")\n",
    "    n1,n2 = n2, n1+n2 \n",
    "    "
   ]
  },
  {
   "cell_type": "markdown",
   "id": "54936279",
   "metadata": {},
   "source": [
    "solution 11"
   ]
  },
  {
   "cell_type": "code",
   "execution_count": 33,
   "id": "de045c88",
   "metadata": {},
   "outputs": [
    {
     "name": "stdout",
     "output_type": "stream",
     "text": [
      "3\n"
     ]
    }
   ],
   "source": [
    "given_string = \"physics wallah\"\n",
    "vowels = ['a', 'e', 'i', 'o', 'u']\n",
    "total_vowel = 0\n",
    "\n",
    "for char in given_string:\n",
    "    if char in vowels:\n",
    "        total_vowel += 1\n",
    "\n",
    "print(total_vowel)\n"
   ]
  },
  {
   "cell_type": "markdown",
   "id": "7f73a10e",
   "metadata": {},
   "source": [
    "solution 12"
   ]
  },
  {
   "cell_type": "code",
   "execution_count": 39,
   "id": "2089b271",
   "metadata": {},
   "outputs": [
    {
     "name": "stdout",
     "output_type": "stream",
     "text": [
      "enter the num: 8\n",
      "8\n",
      "16\n",
      "24\n",
      "32\n",
      "40\n",
      "48\n",
      "56\n",
      "64\n",
      "72\n",
      "80\n"
     ]
    }
   ],
   "source": [
    "num = int(input(\"enter the num: \"))\n",
    "\n",
    "for i in range(1,11):\n",
    "    multiplication = num * i\n",
    "    print( multiplication)\n"
   ]
  },
  {
   "cell_type": "markdown",
   "id": "ad3cc188",
   "metadata": {},
   "source": [
    "solution 13"
   ]
  },
  {
   "cell_type": "code",
   "execution_count": 47,
   "id": "39fc4757",
   "metadata": {
    "scrolled": true
   },
   "outputs": [
    {
     "name": "stdout",
     "output_type": "stream",
     "text": [
      "Original list: [1, 2, 3, 4, 5]\n",
      "Reversed list: [5, 4, 3, 2, 1]\n"
     ]
    }
   ],
   "source": [
    "my_list = [1, 2, 3, 4, 5]\n",
    "reversed_list = []\n",
    "for i in range(len(my_list) - 1, -1, -1):\n",
    "    reversed_list.append(my_list[i])\n",
    "\n",
    "print(\"Original list:\", my_list)\n",
    "print(\"Reversed list:\", reversed_list)\n"
   ]
  },
  {
   "cell_type": "markdown",
   "id": "4f65554a",
   "metadata": {},
   "source": [
    "solution 14"
   ]
  },
  {
   "cell_type": "code",
   "execution_count": 49,
   "id": "c7415c52",
   "metadata": {},
   "outputs": [
    {
     "name": "stdout",
     "output_type": "stream",
     "text": [
      "3\n",
      "5\n",
      "8\n"
     ]
    }
   ],
   "source": [
    "list1 = [2,3,5,8]\n",
    "list2 = [3,5,8,9,11]\n",
    "\n",
    "for num in list1 and list2:\n",
    "    if num in list1 and list2:\n",
    "        print(num)"
   ]
  },
  {
   "cell_type": "markdown",
   "id": "d90d7329",
   "metadata": {},
   "source": [
    "solution 15"
   ]
  },
  {
   "cell_type": "code",
   "execution_count": 51,
   "id": "539f530a",
   "metadata": {},
   "outputs": [
    {
     "name": "stdout",
     "output_type": "stream",
     "text": [
      "brand Ford\n",
      "model Mustang\n",
      "year 1964\n"
     ]
    }
   ],
   "source": [
    "my_dic = {\n",
    "  \"brand\": \"Ford\",\n",
    "  \"model\": \"Mustang\",\n",
    "  \"year\": 1964\n",
    "}\n",
    "for key , value in my_dic.items():\n",
    "    print(key,value)"
   ]
  },
  {
   "cell_type": "markdown",
   "id": "2868bd87",
   "metadata": {},
   "source": [
    "solution 16"
   ]
  },
  {
   "cell_type": "code",
   "execution_count": 2,
   "id": "8c56bb62",
   "metadata": {},
   "outputs": [
    {
     "name": "stdout",
     "output_type": "stream",
     "text": [
      "The GCD of 6 and 8 is: 2\n"
     ]
    }
   ],
   "source": [
    "num1 = 6\n",
    "num2 = 8\n",
    "\n",
    "if num1 < num2:\n",
    "    smaller = num1\n",
    "else:\n",
    "    smaller = num2\n",
    "\n",
    "gcd = 1\n",
    "\n",
    "for i in range(1, smaller + 1):\n",
    "    if num1 % i == 0 and num2 % i == 0:\n",
    "        gcd = i\n",
    "\n",
    "print(f\"The GCD of {num1} and {num2} is: {gcd}\")\n"
   ]
  },
  {
   "cell_type": "markdown",
   "id": "b513df14",
   "metadata": {},
   "source": [
    "solution 17"
   ]
  },
  {
   "cell_type": "code",
   "execution_count": null,
   "id": "1b40f254",
   "metadata": {},
   "outputs": [],
   "source": []
  },
  {
   "cell_type": "markdown",
   "id": "4bf09c47",
   "metadata": {},
   "source": []
  },
  {
   "cell_type": "markdown",
   "id": "cf3c1e13",
   "metadata": {},
   "source": []
  },
  {
   "cell_type": "code",
   "execution_count": 20,
   "id": "49316331",
   "metadata": {},
   "outputs": [
    {
     "name": "stdout",
     "output_type": "stream",
     "text": [
      "no\n",
      "no\n",
      "no\n",
      "no\n"
     ]
    }
   ],
   "source": [
    "given_string = str(input(\"Enter the string: \"))\n",
    "for char in given_string:\n",
    "     palindrome = char[::-1]\n",
    "     if palindrome == given_string:\n",
    "          print(\"yes\")\n",
    "          \n",
    "     else:\n",
    "          print(\"no\")\n",
    "     \n",
    "    \n",
    "     \n",
    "     \n",
    "   \n",
    "     \n",
    "\n",
    "\n"
   ]
  },
  {
   "cell_type": "markdown",
   "id": "5a5b0987",
   "metadata": {},
   "source": [
    "solution 18"
   ]
  },
  {
   "cell_type": "code",
   "execution_count": 2,
   "id": "7d59b106",
   "metadata": {},
   "outputs": [
    {
     "name": "stdout",
     "output_type": "stream",
     "text": [
      "List after removing duplicates: [1, 2, 3, 4, 5, 6]\n"
     ]
    }
   ],
   "source": [
    "\n",
    "my_list = [1, 2, 2, 3, 4, 4, 5, 5, 6]\n",
    "unique_list = []\n",
    "for item in my_list:\n",
    "    if item not in unique_list:\n",
    "        unique_list.append(item)\n",
    "print(\"List after removing duplicates:\", unique_list)\n"
   ]
  },
  {
   "cell_type": "code",
   "execution_count": null,
   "id": "8c9c910b",
   "metadata": {},
   "outputs": [],
   "source": [
    "solution 19"
   ]
  },
  {
   "cell_type": "code",
   "execution_count": 2,
   "id": "020a32e5",
   "metadata": {},
   "outputs": [
    {
     "name": "stdout",
     "output_type": "stream",
     "text": [
      "9\n"
     ]
    }
   ],
   "source": [
    "sentence = \"physics wallah is a best online platform for learning.\"\n",
    "words = sentence.split()\n",
    "word_count = 0\n",
    "for word in words:\n",
    "    word_count += 1\n",
    "print(word_count)"
   ]
  },
  {
   "cell_type": "markdown",
   "id": "30dba667",
   "metadata": {},
   "source": [
    "solution 20"
   ]
  },
  {
   "cell_type": "markdown",
   "id": "3a4fa1bb",
   "metadata": {},
   "source": []
  },
  {
   "cell_type": "code",
   "execution_count": null,
   "id": "6f2d58ad",
   "metadata": {},
   "outputs": [
    {
     "name": "stdout",
     "output_type": "stream",
     "text": [
      "625\n"
     ]
    }
   ],
   "source": [
    "sum = 0\n",
    "for odd_num in range(1,51):\n",
    "    if odd_num % 2 != 0:\n",
    "        sum += odd_num\n",
    "print(sum)\n",
    "\n",
    "    "
   ]
  },
  {
   "cell_type": "markdown",
   "id": "c8a11bee",
   "metadata": {},
   "source": [
    "solution 21"
   ]
  },
  {
   "cell_type": "code",
   "execution_count": 13,
   "id": "15d5a778",
   "metadata": {},
   "outputs": [
    {
     "name": "stdout",
     "output_type": "stream",
     "text": [
      "2000 is a leap year\n"
     ]
    }
   ],
   "source": [
    "\n",
    "year = int(input(\"Enter the year: \"))\n",
    "for leap_year in [year]:\n",
    "    \n",
    "    if (leap_year % 4 == 0 and leap_year % 100 != 0) or (leap_year % 400 == 0):\n",
    "        print(f\"{leap_year} is a leap year\")\n",
    "    else:\n",
    "        print(f\"{leap_year} is not a leap year\")\n"
   ]
  },
  {
   "cell_type": "code",
   "execution_count": null,
   "id": "6ab40c7a",
   "metadata": {},
   "outputs": [],
   "source": [
    "solution 22"
   ]
  },
  {
   "cell_type": "code",
   "execution_count": 1,
   "id": "93bdb7a9",
   "metadata": {},
   "outputs": [
    {
     "name": "stdout",
     "output_type": "stream",
     "text": [
      "4.0\n"
     ]
    }
   ],
   "source": [
    "number = int(input(\"Enter the number\"))\n",
    "square_root = number ** 0.5\n",
    "print(square_root)\n"
   ]
  },
  {
   "cell_type": "markdown",
   "id": "57fe802e",
   "metadata": {},
   "source": [
    "solution 23"
   ]
  },
  {
   "cell_type": "code",
   "execution_count": 2,
   "id": "39a6f1de",
   "metadata": {},
   "outputs": [
    {
     "name": "stdout",
     "output_type": "stream",
     "text": [
      "The lcm of num1 and num2 is: 8\n"
     ]
    }
   ],
   "source": [
    "num1 = int(input(\"Enter the num1: \"))\n",
    "num2 = int(input(\"Enter the num2: \"))\n",
    "if num1 > num2:\n",
    "    greater = num1\n",
    "else:\n",
    "    greater = num2\n",
    "for i in range(greater, (num1*num2)+1):\n",
    "    if i % num1 == 0 and i % num2 == 0:\n",
    "        lcm = i\n",
    "        break\n",
    "print(\"The lcm of num1 and num2 is:\", lcm)"
   ]
  },
  {
   "cell_type": "markdown",
   "id": "e9e32779",
   "metadata": {},
   "source": [
    "   if else solution 1"
   ]
  },
  {
   "cell_type": "code",
   "execution_count": 3,
   "id": "95a88dc0",
   "metadata": {},
   "outputs": [
    {
     "name": "stdout",
     "output_type": "stream",
     "text": [
      "the given num is positive or equal to zero\n"
     ]
    }
   ],
   "source": [
    "num = int(input(\"Enter the num:\"))\n",
    "if num >= 0:\n",
    "    print(\"the given num is positive or equal to zero\")\n",
    "else:\n",
    "    print(\"The given num is negative\")"
   ]
  },
  {
   "cell_type": "markdown",
   "id": "489fb75c",
   "metadata": {},
   "source": [
    "solution 2"
   ]
  },
  {
   "cell_type": "code",
   "execution_count": 5,
   "id": "0d1afbc2",
   "metadata": {},
   "outputs": [
    {
     "name": "stdout",
     "output_type": "stream",
     "text": [
      "The given num is odd\n"
     ]
    }
   ],
   "source": [
    "num = int(input(\"Enter the num: \"))\n",
    "if num % 2 == 0:\n",
    "    print(\"The given num is even\")\n",
    "else:\n",
    "    print(\"The given num is odd\")"
   ]
  },
  {
   "cell_type": "code",
   "execution_count": null,
   "id": "16226f14",
   "metadata": {},
   "outputs": [],
   "source": [
    "solution 3"
   ]
  },
  {
   "cell_type": "code",
   "execution_count": null,
   "id": "9a1ae9db",
   "metadata": {},
   "outputs": [],
   "source": [
    "Nested if-else statements in Python are used when you need to make multiple decisions within the same condition. Essentially, an if or else block can contain another if-else statement. This allows for more complex decision-making based on multiple conditions."
   ]
  },
  {
   "cell_type": "code",
   "execution_count": null,
   "id": "ab80f2f4",
   "metadata": {},
   "outputs": [],
   "source": []
  }
 ],
 "metadata": {
  "kernelspec": {
   "display_name": "Python 3 (ipykernel)",
   "language": "python",
   "name": "python3"
  },
  "language_info": {
   "codemirror_mode": {
    "name": "ipython",
    "version": 3
   },
   "file_extension": ".py",
   "mimetype": "text/x-python",
   "name": "python",
   "nbconvert_exporter": "python",
   "pygments_lexer": "ipython3",
   "version": "3.11.5"
  }
 },
 "nbformat": 4,
 "nbformat_minor": 5
}
